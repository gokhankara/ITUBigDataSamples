{
  "nbformat": 4,
  "nbformat_minor": 0,
  "metadata": {
    "colab": {
      "name": "kur cagirma.ipynb",
      "provenance": [],
      "collapsed_sections": []
    },
    "kernelspec": {
      "name": "python3",
      "display_name": "Python 3"
    }
  },
  "cells": [
    {
      "cell_type": "code",
      "metadata": {
        "id": "PbRMGg64AphL",
        "colab_type": "code",
        "outputId": "c53c82e5-4fb5-4ca2-ca12-e03306e75b6e",
        "colab": {
          "base_uri": "https://localhost:8080/",
          "height": 51
        }
      },
      "source": [
        "from bs4 import BeautifulSoup\n",
        "from urllib.request import urlopen, Request\n",
        "\n",
        "def DolarParse():\n",
        "    pasteURL = \"http://tr.investing.com/currencies/usd-try\"\n",
        "    data = urlopen(Request(pasteURL, headers={'User-Agent': 'Mozilla'})).read()\n",
        "    parse = BeautifulSoup(data)\n",
        "    for dolar in parse.find_all('span', id=\"last_last\"):\n",
        "        liste = list(dolar)\n",
        "        print(\"Güncel Dolar Kuru: \" + str(liste))\n",
        "\n",
        "\n",
        "def EuroParse():\n",
        "    pasteURL = \"http://tr.investing.com/currencies/eur-try\"\n",
        "    data = urlopen(Request(pasteURL, headers={'User-Agent': 'Mozilla'})).read()\n",
        "    parse = BeautifulSoup(data)\n",
        "    for dolar in parse.find_all('span', id=\"last_last\"):\n",
        "        liste = list(dolar)\n",
        "        print(\"Güncel Euro Kuru: \" + str(liste))\n",
        "\n",
        "DolarParse()\n",
        "EuroParse()"
      ],
      "execution_count": 1,
      "outputs": [
        {
          "output_type": "stream",
          "text": [
            "Güncel Dolar Kuru: ['5,7124']\n",
            "Güncel Euro Kuru: ['6,3787']\n"
          ],
          "name": "stdout"
        }
      ]
    },
    {
      "cell_type": "code",
      "metadata": {
        "id": "GSxMn9ftEXir",
        "colab_type": "code",
        "colab": {
          "base_uri": "https://localhost:8080/",
          "height": 51
        },
        "outputId": "ecb503af-7b87-47b0-9bd3-e47c358d2867"
      },
      "source": [
        "DolarParse()\n",
        "EuroParse()"
      ],
      "execution_count": 2,
      "outputs": [
        {
          "output_type": "stream",
          "text": [
            "Güncel Dolar Kuru: ['5,7124']\n",
            "Güncel Euro Kuru: ['6,3787']\n"
          ],
          "name": "stdout"
        }
      ]
    },
    {
      "cell_type": "code",
      "metadata": {
        "id": "i_Z-k56cElCE",
        "colab_type": "code",
        "colab": {
          "base_uri": "https://localhost:8080/",
          "height": 51
        },
        "outputId": "0b5d8dce-7c79-4953-977c-fcc894cd74cd"
      },
      "source": [
        "DolarParse()\n",
        "EuroParse()"
      ],
      "execution_count": 3,
      "outputs": [
        {
          "output_type": "stream",
          "text": [
            "Güncel Dolar Kuru: ['5,7124']\n",
            "Güncel Euro Kuru: ['6,3787']\n"
          ],
          "name": "stdout"
        }
      ]
    },
    {
      "cell_type": "code",
      "metadata": {
        "id": "MPszfwcKErw5",
        "colab_type": "code",
        "colab": {
          "base_uri": "https://localhost:8080/",
          "height": 51
        },
        "outputId": "b88fda50-3c36-4542-ea1c-c3a8032709fb"
      },
      "source": [
        "DolarParse()\n",
        "EuroParse()\n"
      ],
      "execution_count": 4,
      "outputs": [
        {
          "output_type": "stream",
          "text": [
            "Güncel Dolar Kuru: ['5,7124']\n",
            "Güncel Euro Kuru: ['6,3787']\n"
          ],
          "name": "stdout"
        }
      ]
    },
    {
      "cell_type": "code",
      "metadata": {
        "id": "y27IvZ5cGZjG",
        "colab_type": "code",
        "colab": {}
      },
      "source": [
        ""
      ],
      "execution_count": 0,
      "outputs": []
    }
  ]
}